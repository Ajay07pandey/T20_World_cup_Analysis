{
  "nbformat": 4,
  "nbformat_minor": 0,
  "metadata": {
    "colab": {
      "provenance": [],
      "authorship_tag": "ABX9TyOzlnY3edvEqJp1WYfJ/Plt",
      "include_colab_link": true
    },
    "kernelspec": {
      "name": "python3",
      "display_name": "Python 3"
    },
    "language_info": {
      "name": "python"
    }
  },
  "cells": [
    {
      "cell_type": "markdown",
      "metadata": {
        "id": "view-in-github",
        "colab_type": "text"
      },
      "source": [
        "<a href=\"https://colab.research.google.com/github/Ajay07pandey/T20_World_cup_Analysis/blob/main/T20_World_cup_Analysis_.ipynb\" target=\"_parent\"><img src=\"https://colab.research.google.com/assets/colab-badge.svg\" alt=\"Open In Colab\"/></a>"
      ]
    },
    {
      "cell_type": "code",
      "execution_count": 1,
      "metadata": {
        "id": "u1VcjeGvwSpl"
      },
      "outputs": [],
      "source": [
        "import pandas as pd\n",
        "import json"
      ]
    },
    {
      "cell_type": "code",
      "source": [
        "from google.colab import drive\n",
        "drive.mount('/content/drive/')"
      ],
      "metadata": {
        "colab": {
          "base_uri": "https://localhost:8080/"
        },
        "id": "-BKcSN-Ox7g8",
        "outputId": "6c379709-1315-4be6-be17-1258097eb336"
      },
      "execution_count": 3,
      "outputs": [
        {
          "output_type": "stream",
          "name": "stdout",
          "text": [
            "Mounted at /content/drive/\n"
          ]
        }
      ]
    },
    {
      "cell_type": "markdown",
      "source": [
        "## **1. Process Match result .Json file**"
      ],
      "metadata": {
        "id": "NM8lcIIpzGiJ"
      }
    },
    {
      "cell_type": "markdown",
      "source": [
        "Colon is typically a mark of introduction, used to let the reader know that what follows the colon has been pointed to or described by what precedes the colon. (This is quite a different function from that of the semicolon, which is mostly used to separate two independent sentence parts that are related in meaning.)"
      ],
      "metadata": {
        "id": "QiEfHDPQ0jBN"
      }
    },
    {
      "cell_type": "code",
      "source": [
        "with open('/content/drive/MyDrive/Self Projects/T20 WC Match analysis/Data (Json)/t20_wc_match_results.json') as mr:\n",
        "\n"
      ],
      "metadata": {
        "id": "PEIDUSN9yWov"
      },
      "execution_count": null,
      "outputs": []
    }
  ]
}